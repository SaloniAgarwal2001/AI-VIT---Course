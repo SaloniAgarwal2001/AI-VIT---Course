{
 "cells": [
  {
   "cell_type": "code",
   "execution_count": 23,
   "id": "1f6633fd",
   "metadata": {},
   "outputs": [
    {
     "name": "stdout",
     "output_type": "stream",
     "text": [
      "   Feature1  Feature2  Feature3  Feature4\n",
      "0  0.097079  0.959397  0.334555  0.643591\n",
      "1  0.121381  0.987846  0.198811  0.034591\n",
      "2  0.158077  0.865403  0.531411  0.514683\n",
      "3  0.296681  0.950488  0.603926  0.090096\n"
     ]
    }
   ],
   "source": [
    "#AI Assignment 1\n",
    "#Task - 1 Create a pandas dataframe (DataFrame name as 'df') with numpy random values (4 features and 4 observation)\n",
    "import pandas as pd\n",
    "import numpy as np\n",
    "\n",
    "# Set the random seed for reproducibility\n",
    "np.random.seed()\n",
    "\n",
    "# Create a NumPy array with random values\n",
    "data = np.random.rand(4, 4)\n",
    "\n",
    "# Create a DataFrame with the random values\n",
    "df = pd.DataFrame(data, columns=['Feature1', 'Feature2', 'Feature3', 'Feature4'])\n",
    "\n",
    "# Print the DataFrame\n",
    "print(df)\n"
   ]
  },
  {
   "cell_type": "code",
   "execution_count": 24,
   "id": "de713d5c",
   "metadata": {},
   "outputs": [
    {
     "name": "stdout",
     "output_type": "stream",
     "text": [
      "   Random value 1  Random value 2  Random value 3  Random value 4\n",
      "0        0.097079        0.959397        0.334555        0.643591\n",
      "1        0.121381        0.987846        0.198811        0.034591\n",
      "2        0.158077        0.865403        0.531411        0.514683\n",
      "3        0.296681        0.950488        0.603926        0.090096\n"
     ]
    }
   ],
   "source": [
    "# Task - 2 Rename the task - 1 'df' dataframe column names to 'Random value 1', 'Random value 2', 'Random value 3' & 'Random value 4\n",
    "new_column_names = {\n",
    "    'Feature1': 'Random value 1',\n",
    "    'Feature2': 'Random value 2',\n",
    "    'Feature3': 'Random value 3',\n",
    "    'Feature4': 'Random value 4'\n",
    "}\n",
    "df = df.rename(columns=new_column_names)\n",
    "\n",
    "# Print the updated DataFrame\n",
    "print(df)"
   ]
  },
  {
   "cell_type": "code",
   "execution_count": 25,
   "id": "c7ae1762",
   "metadata": {},
   "outputs": [
    {
     "name": "stdout",
     "output_type": "stream",
     "text": [
      "       Random value 1  Random value 2  Random value 3  Random value 4\n",
      "count        4.000000        4.000000        4.000000        4.000000\n",
      "mean         0.168304        0.940784        0.417176        0.320740\n",
      "std          0.089181        0.052719        0.184783        0.303823\n",
      "min          0.097079        0.865403        0.198811        0.034591\n",
      "25%          0.115306        0.929217        0.300619        0.076220\n",
      "50%          0.139729        0.954943        0.432983        0.302389\n",
      "75%          0.192728        0.966509        0.549540        0.546910\n",
      "max          0.296681        0.987846        0.603926        0.643591\n"
     ]
    }
   ],
   "source": [
    "#Task - 3 Find the descriptive statistics of the 'df' dataframe\n",
    "statistics = df.describe()\n",
    "print(statistics)"
   ]
  },
  {
   "cell_type": "code",
   "execution_count": 26,
   "id": "20f37d86",
   "metadata": {},
   "outputs": [
    {
     "name": "stdout",
     "output_type": "stream",
     "text": [
      "Null Values:\n",
      " Random value 1    0\n",
      "Random value 2    0\n",
      "Random value 3    0\n",
      "Random value 4    0\n",
      "dtype: int64\n",
      "\n",
      "Data Types:\n",
      " Random value 1    float64\n",
      "Random value 2    float64\n",
      "Random value 3    float64\n",
      "Random value 4    float64\n",
      "dtype: object\n"
     ]
    }
   ],
   "source": [
    "#Task - 4 Check for the null values in 'df' and find the data type of the columns.\n",
    "null_values = df.isnull().sum()\n",
    "\n",
    "# Find the data types\n",
    "data_types = df.dtypes\n",
    "\n",
    "# Print the results\n",
    "print(\"Null Values:\\n\", null_values)\n",
    "print(\"\\nData Types:\\n\", data_types)"
   ]
  },
  {
   "cell_type": "code",
   "execution_count": 27,
   "id": "23ca87d0",
   "metadata": {},
   "outputs": [
    {
     "name": "stdout",
     "output_type": "stream",
     "text": [
      "Columns using loc:\n",
      "    Random value 2  Random value 3\n",
      "0        0.959397        0.334555\n",
      "1        0.987846        0.198811\n",
      "2        0.865403        0.531411\n",
      "3        0.950488        0.603926\n",
      "\n",
      "Columns using iloc:\n",
      "    Random value 2  Random value 3\n",
      "0        0.959397        0.334555\n",
      "1        0.987846        0.198811\n",
      "2        0.865403        0.531411\n",
      "3        0.950488        0.603926\n"
     ]
    }
   ],
   "source": [
    "# Task - 5 Display the 'Random value 2' & 'Random value 3' columns with location method and index location method\n",
    "\n",
    "columns_loc = df.loc[:, ['Random value 2', 'Random value 3']]\n",
    "print(\"Columns using loc:\\n\", columns_loc)\n",
    "\n",
    "column_indices = [1, 2]  # Indices of 'Random value 2' and 'Random value 3' columns\n",
    "columns_iloc = df.iloc[:, column_indices]\n",
    "print(\"\\nColumns using iloc:\\n\", columns_iloc)\n"
   ]
  },
  {
   "cell_type": "code",
   "execution_count": 28,
   "id": "8b0a47b3",
   "metadata": {},
   "outputs": [
    {
     "name": "stdout",
     "output_type": "stream",
     "text": [
      "          A         B         C         D\n",
      "0  0.516707  0.031978  0.563927  0.730821\n",
      "1  0.799306  0.764745  0.510901  0.201400\n",
      "2  0.196239  0.596713  0.242112  0.460248\n",
      "3  0.778373  0.209449  0.655970  0.939730\n"
     ]
    }
   ],
   "source": [
    "import pandas as pd \n",
    "import numpy as np\n",
    "np.random.seed()\n",
    "data = np.random.rand(4,4)\n",
    "df=pd.DataFrame(data, columns=['A','B','C','D'])\n",
    "print(df)"
   ]
  }
 ],
 "metadata": {
  "kernelspec": {
   "display_name": "Python 3 (ipykernel)",
   "language": "python",
   "name": "python3"
  },
  "language_info": {
   "codemirror_mode": {
    "name": "ipython",
    "version": 3
   },
   "file_extension": ".py",
   "mimetype": "text/x-python",
   "name": "python",
   "nbconvert_exporter": "python",
   "pygments_lexer": "ipython3",
   "version": "3.9.12"
  }
 },
 "nbformat": 4,
 "nbformat_minor": 5
}
